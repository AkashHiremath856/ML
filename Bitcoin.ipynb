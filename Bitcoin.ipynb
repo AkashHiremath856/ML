{
  "nbformat": 4,
  "nbformat_minor": 0,
  "metadata": {
    "colab": {
      "name": "Bitcoin.ipynb",
      "provenance": [],
      "collapsed_sections": [],
      "authorship_tag": "ABX9TyNONUKoaMLMa2L6us2yo/BM",
      "include_colab_link": true
    },
    "kernelspec": {
      "name": "python3",
      "display_name": "Python 3"
    },
    "language_info": {
      "name": "python"
    }
  },
  "cells": [
    {
      "cell_type": "markdown",
      "metadata": {
        "id": "view-in-github",
        "colab_type": "text"
      },
      "source": [
        "<a href=\"https://colab.research.google.com/github/AkashHiremath856/ML/blob/main/Bitcoin.ipynb\" target=\"_parent\"><img src=\"https://colab.research.google.com/assets/colab-badge.svg\" alt=\"Open In Colab\"/></a>"
      ]
    },
    {
      "cell_type": "code",
      "metadata": {
        "id": "KZ5HG293wUoC"
      },
      "source": [
        "from hashlib import sha256\n",
        "MAX_NONCE = 100000000000\n",
        " \n",
        "def SHA256(text):\n",
        "    return sha256(text.encode(\"ascii\")).hexdigest()\n",
        " \n",
        "def mine(block_number, transactions, previous_hash, prefix_zeros):\n",
        "    prefix_str = '0'*prefix_zeros\n",
        "    for nonce in range(MAX_NONCE):\n",
        "        text = str(block_number) + transactions + previous_hash + str(nonce)\n",
        "        new_hash = SHA256(text)\n",
        "        if new_hash.startswith(prefix_str):\n",
        "            print(f\"Yay! Successfully mined bitcoins with nonce value:{nonce}\")\n",
        "            return new_hash\n",
        " \n",
        "    raise BaseException(f\"Couldn't find correct has after trying {MAX_NONCE} times\")\n",
        " \n",
        "if __name__=='__main__':\n",
        "    transactions='''\n",
        "    A->B->20,\n",
        "    C->D->45\n",
        "    '''\n",
        "    difficulty=20 # try changing this to higher number and you will see it will take more time for mining as difficulty increases\n",
        "    import time\n",
        "    start = time.time()\n",
        "    print(\"start mining\")\n",
        "    new_hash = mine(5,transactions,'0000000xa036944e29568d0cff17edbe038f81208fecf9a66be9a2b8321c6ec7', difficulty)\n",
        "    total_time = str((time.time() - start))\n",
        "    print(f\"end mining. Mining took: {total_time} seconds\")\n",
        "    print(new_hash)"
      ],
      "execution_count": null,
      "outputs": []
    }
  ]
}